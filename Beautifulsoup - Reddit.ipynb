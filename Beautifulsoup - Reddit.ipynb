{
 "cells": [
  {
   "cell_type": "markdown",
   "metadata": {},
   "source": [
    "# Settings"
   ]
  },
  {
   "cell_type": "code",
   "execution_count": 1,
   "metadata": {},
   "outputs": [],
   "source": [
    "import pandas as pd\n",
    "pd.set_option('display.max_columns', None)"
   ]
  },
  {
   "cell_type": "markdown",
   "metadata": {},
   "source": [
    "# Webscrapping "
   ]
  },
  {
   "cell_type": "markdown",
   "metadata": {},
   "source": [
    "## 1. BeautifulSoup - Reddit"
   ]
  },
  {
   "cell_type": "code",
   "execution_count": 2,
   "metadata": {},
   "outputs": [],
   "source": [
    "from bs4 import BeautifulSoup\n",
    "import requests\n",
    "import numpy as np"
   ]
  },
  {
   "cell_type": "code",
   "execution_count": 3,
   "metadata": {},
   "outputs": [],
   "source": [
    "# Add header and  url\n",
    "headers = {'User-Agent': 'Mozilla/5.0 (Windows NT 6.3; Win64; x64) AppleWebKit/537.36 (KHTML, like Gecko) Chrome/54.0.2840.71 Safari/537.36'}\n",
    "url = \"https://wsbdaily.com/\"\n",
    "\n",
    "r = requests.get(url)"
   ]
  },
  {
   "cell_type": "markdown",
   "metadata": {},
   "source": [
    "### 1.1 Reddit Wallstreetbets"
   ]
  },
  {
   "cell_type": "code",
   "execution_count": 4,
   "metadata": {},
   "outputs": [
    {
     "name": "stdout",
     "output_type": "stream",
     "text": [
      "table is  <table class=\"css-s8p85f enavj7y0\"><style data-emotion-css=\"1l2ao05\">.css-1l2ao05{color:var(--theme-ui-colors-primary,#000);text-align:left;border-collapse:collapse;position:relative;line-height:1.756;font-weight:600;font-family:'Merriweather',Georgia,Serif;-webkit-transition:background 0.25s var(--ease-in-out-quad),color 0.25s var(--ease-in-out-quad);transition:background 0.25s var(--ease-in-out-quad),color 0.25s var(--ease-in-out-quad);}</style><thead class=\"css-1l2ao05 ewoxf2k0\"><tr><style data-emotion-css=\"si2cnr\">.css-si2cnr{white-space:nowrap;padding:0.15rem 0.5rem;font-size:15px;background:var(--theme-ui-colors-tableHeading,#eee);border-collapse:collapse;color:var(--theme-ui-colors-primary,#000);border-bottom:1px solid var(--theme-ui-colors-horizontalRule,rgba(8,8,11,0.15));border-right:1px solid var(--theme-ui-colors-horizontalRule,rgba(8,8,11,0.15));text-align:center;}</style><th class=\"css-si2cnr e1b8pdim20\">#</th><style data-emotion-css=\"6m1lpl\">.css-6m1lpl{white-space:nowrap;padding:0.15rem 0.5rem;font-size:15px;background:var(--theme-ui-colors-tableHeading,#eee);border-collapse:collapse;color:var(--theme-ui-colors-primary,#000);border-bottom:1px solid var(--theme-ui-colors-horizontalRule,rgba(8,8,11,0.15));}</style><th class=\"css-6m1lpl eedk6v90\" title=\"The ticker symbol and company name\">Symbol (Name)</th><th class=\"css-6m1lpl e1b8pdim2\" title=\"The exchange the ticker trades on\"> </th><th class=\"css-6m1lpl eedk6v90\" title=\"The relative rank (momentum) compared to yesterday, green arrow means more popular, red less and gray no change\">Rank</th><th class=\"css-6m1lpl eedk6v90\" title=\"The number of comments (and posts) mentioning the ticker symbol or company name\">Comments</th><th class=\"css-6m1lpl eedk6v90\" title=\"The number of unique users commenting with the ticker symbol\">Users</th><style data-emotion-css=\"mb9agh\">.css-mb9agh{white-space:nowrap;padding:0.15rem 0.5rem;font-size:15px;background:var(--theme-ui-colors-tableHeading,#eee);border-collapse:collapse;color:var(--theme-ui-colors-primary,#000);border-bottom:1px solid var(--theme-ui-colors-horizontalRule,rgba(8,8,11,0.15));text-align:right;border-left:1px solid var(--theme-ui-colors-horizontalRule,rgba(8,8,11,0.15));}</style><th class=\"css-mb9agh e1b8pdim5\" title=\"The last closing price\">Price</th><style data-emotion-css=\"42a0y\">.css-42a0y{white-space:nowrap;padding:0.15rem 0.5rem;font-size:15px;background:var(--theme-ui-colors-tableHeading,#eee);border-collapse:collapse;color:var(--theme-ui-colors-primary,#000);border-bottom:1px solid var(--theme-ui-colors-horizontalRule,rgba(8,8,11,0.15));text-align:center;}</style><th class=\"css-42a0y e1b8pdim8\" title=\"The change between the closing price of Yesterday and Today\"></th><th class=\"css-6m1lpl eedk6v90\" title=\"The volume in the last day of trading\">Vol</th><th class=\"css-42a0y e1b8pdim8\" title=\"The increase in volume compared to the previous day\">24h</th><style data-emotion-css=\"1xe603f\">.css-1xe603f{white-space:nowrap;padding:0.15rem 0.5rem;font-size:15px;background:var(--theme-ui-colors-tableHeading,#eee);border-collapse:collapse;color:var(--theme-ui-colors-primary,#000);border-bottom:1px solid var(--theme-ui-colors-horizontalRule,rgba(8,8,11,0.15));text-align:right;}</style><th class=\"css-1xe603f e1b8pdim4\" title=\"The market cap\">Mrkt Cap.</th></tr></thead><style data-emotion-css=\"4cndp\">.css-4cndp tr:first-of-type td{border-top:none;}</style><tbody class=\"css-4cndp eotjedu0\"><tr><style data-emotion-css=\"1e317yx\">.css-1e317yx{border-top:1px solid var(--theme-ui-colors-horizontalRule,rgba(8,8,11,0.15));background:var(--theme-ui-colors-card,#fff);white-space:nowrap;padding:0.17rem 0.5rem;font-size:14.667px;border-collapse:collapse;color:var(--theme-ui-colors-articleTextLight,rgb(66,66,88));word-break:keep-all;white-space:nowrap;border-right:1px solid var(--theme-ui-colors-horizontalRule,rgba(8,8,11,0.15));text-align:right;}</style><td class=\"css-1e317yx e1b8pdim19\">1<!-- -->.</td><style data-emotion-css=\"qgaxol\">.css-qgaxol{border-top:1px solid var(--theme-ui-colors-horizontalRule,rgba(8,8,11,0.15));background:var(--theme-ui-colors-card,#fff);white-space:nowrap;padding:0.17rem 0.5rem;font-size:14.667px;border-collapse:collapse;color:var(--theme-ui-colors-articleTextLight,rgb(66,66,88));white-space:nowrap;overflow:hidden;text-overflow:ellipsis;max-width:240px;}</style><td class=\"css-qgaxol e1b8pdim21\" title=\"GameStop Corp., a specialty retailer, provides games and entertainment products through its e-commerce properties and various stores in the United States, Canada, Australia, and Europe. The company se...\"><style data-emotion-css=\"1sctek8\">.css-1sctek8{font-weight:600;color:var(--theme-ui-colors-primary,#000);}.css-1sctek8 a,.css-1sctek8 a:visited{color:var(--theme-ui-colors-primary,#000);}</style><span class=\"css-1sctek8 e1b8pdim9\"><a href=\"/GME/\" style=\"font-weight:600\">GME</a></span> <style data-emotion-css=\"8k7y81\">.css-8k7y81{font-size:0.825em;color:var(--theme-ui-colors-grey,#73737D);}</style><span class=\"css-8k7y81 e1b8pdim12\">(<!-- -->GameStop Corp.<!-- -->)</span></td><style data-emotion-css=\"hogeaf\">.css-hogeaf{border-top:1px solid var(--theme-ui-colors-horizontalRule,rgba(8,8,11,0.15));background:var(--theme-ui-colors-card,#fff);white-space:nowrap;padding:0.17rem 0.5rem;font-size:14.667px;border-collapse:collapse;color:var(--theme-ui-colors-articleTextLight,rgb(66,66,88));padding-left:0.25rem;text-align:right;font-size:0.65em;color:var(--theme-ui-colors-grey,#73737D);}</style><td class=\"css-hogeaf e1b8pdim3\" title=\"NYSE (NYQ)\">NYSE</td><style data-emotion-css=\"5pqg6h\">.css-5pqg6h{border-top:1px solid var(--theme-ui-colors-horizontalRule,rgba(8,8,11,0.15));background:var(--theme-ui-colors-card,#fff);white-space:nowrap;padding:0.17rem 0.5rem;font-size:14.667px;border-collapse:collapse;color:var(--theme-ui-colors-articleTextLight,rgb(66,66,88));}</style><td class=\"css-5pqg6h e1gfm3lv0\"><style data-emotion-css=\"9muxh2\">.css-9muxh2{color:#aaa;font-weight:bold;font-size:27px;line-height:0;margin-top:2px;display:block;}</style><span class=\"css-9muxh2 e1b8pdim23\" title=\"No change\">⬌</span></td><td class=\"css-5pqg6h e1gfm3lv0\">2,971<!-- --> <style data-emotion-css=\"1euet3f\">.css-1euet3f{font-size:0.825em;opacity:0.7;}</style><span class=\"css-1euet3f e1b8pdim29\">/ <!-- -->157<!-- --> post<!-- -->s</span></td><td class=\"css-5pqg6h e1gfm3lv0\">2138</td><style data-emotion-css=\"1rojnx\">.css-1rojnx{border-top:1px solid var(--theme-ui-colors-horizontalRule,rgba(8,8,11,0.15));background:var(--theme-ui-colors-card,#fff);white-space:nowrap;padding:0.17rem 0.5rem;font-size:14.667px;border-collapse:collapse;color:var(--theme-ui-colors-articleTextLight,rgb(66,66,88));text-align:right;font-size:0.825em;padding-right:0.25rem;font-weight:bold;border-left:1px solid var(--theme-ui-colors-horizontalRule,rgba(8,8,11,0.15));}</style><td class=\"css-1rojnx e1b8pdim17\"><style data-emotion-css=\"1ik7hc8\">.css-1ik7hc8 a,.css-1ik7hc8 a:hover{color:var(--theme-ui-colors-primary,#000);-webkit-text-decoration:none;text-decoration:none;}</style><span class=\"css-1ik7hc8 e1b8pdim11\"><a href=\"https://finance.yahoo.com/quote/GME/chart\">$<!-- --> <!-- -->166.53</a></span></td><style data-emotion-css=\"xbhtj5\">.css-xbhtj5{border-top:1px solid var(--theme-ui-colors-horizontalRule,rgba(8,8,11,0.15));background:var(--theme-ui-colors-card,#fff);white-space:nowrap;padding:0.17rem 0.5rem;font-size:14.667px;border-collapse:collapse;color:var(--theme-ui-colors-articleTextLight,rgb(66,66,88));padding-left:0.25rem;padding-right:0;text-align:left;font-size:0.825em;}</style><td class=\"css-xbhtj5 e1b8pdim18\"><style data-emotion-css=\"1e0z3kq\">.css-1e0z3kq{color:var(--theme-ui-colors-success,rgb(0,180,0));}</style><span class=\"css-1e0z3kq e1b8pdim27\" title=\"Up from $140.99 to $166.53\">+<!-- -->25.54<!-- --> (+<!-- -->18.11<!-- -->%)</span></td><style data-emotion-css=\"12cmoq3\">.css-12cmoq3{border-top:1px solid var(--theme-ui-colors-horizontalRule,rgba(8,8,11,0.15));background:var(--theme-ui-colors-card,#fff);white-space:nowrap;padding:0.17rem 0.5rem;font-size:14.667px;border-collapse:collapse;color:var(--theme-ui-colors-articleTextLight,rgb(66,66,88));text-align:right;font-size:0.85em;}</style><td class=\"css-12cmoq3 e1b8pdim14\" title=\"20,965,297\">21M</td><td class=\"css-xbhtj5 e1b8pdim18\"><span class=\"css-1e0z3kq e1b8pdim27\" title=\"Volume increased by 14M from 6.8M\">+<!-- -->209.0<!-- -->%</span></td><td class=\"css-12cmoq3 e1b8pdim14\">$<!-- --> <!-- -->11.66B</td></tr><tr><td class=\"css-1e317yx e1b8pdim19\">2<!-- -->.</td><td class=\"css-qgaxol e1b8pdim21\" title=\"Palantir Technologies Inc. builds and deploys software platforms for the intelligence community in the United States to assist in counterterrorism investigations and operations. The company provides P...\"><span class=\"css-1sctek8 e1b8pdim9\"><a href=\"/PLTR/\" style=\"font-weight:600\">PLTR</a></span> <span class=\"css-8k7y81 e1b8pdim12\">(<!-- -->Palantir Technologies Inc.<!-- -->)</span></td><td class=\"css-hogeaf e1b8pdim3\" title=\"NYSE (NYQ)\">NYSE</td><td class=\"css-5pqg6h e1gfm3lv0\"><span class=\"css-9muxh2 e1b8pdim23\" title=\"No change\">⬌</span></td><td class=\"css-5pqg6h e1gfm3lv0\">1,369<!-- --> <span class=\"css-1euet3f e1b8pdim29\">/ <!-- -->53<!-- --> post<!-- -->s</span></td><td class=\"css-5pqg6h e1gfm3lv0\">770</td><td class=\"css-1rojnx e1b8pdim17\"><span class=\"css-1ik7hc8 e1b8pdim11\"><a href=\"https://finance.yahoo.com/quote/PLTR/chart\">$<!-- --> <!-- -->23.70</a></span></td><td class=\"css-xbhtj5 e1b8pdim18\"><style data-emotion-css=\"163gdep\">.css-163gdep{color:var(--theme-ui-colors-error,#dc3545);}</style><span class=\"css-163gdep e1b8pdim28\" title=\"Down from $25.42 to $23.7\">-1.72<!-- --> (<!-- -->-6.77<!-- -->%)</span></td><td class=\"css-12cmoq3 e1b8pdim14\" title=\"107,136,193\">107M</td><td class=\"css-xbhtj5 e1b8pdim18\"><span class=\"css-1e0z3kq e1b8pdim27\" title=\"Volume increased by 24M from 83M\">+<!-- -->28.40<!-- -->%</span></td><td class=\"css-12cmoq3 e1b8pdim14\">$<!-- --> <!-- -->43.19B</td></tr><tr><td class=\"css-1e317yx e1b8pdim19\">3<!-- -->.</td><td class=\"css-qgaxol e1b8pdim21\" title=\"Tesla, Inc. designs, develops, manufactures, leases, and sells electric vehicles, and energy generation and storage systems in the United States, China, and internationally. The company operates in tw...\"><span class=\"css-1sctek8 e1b8pdim9\"><a href=\"/TSLA/\" style=\"font-weight:600\">TSLA</a></span> <span class=\"css-8k7y81 e1b8pdim12\">(<!-- -->Tesla, Inc.<!-- -->)</span></td><td class=\"css-hogeaf e1b8pdim3\" title=\"NasdaqGS (NMS)\">NASDAQ</td><td class=\"css-5pqg6h e1gfm3lv0\"><style data-emotion-css=\"1s1lp2w\">.css-1s1lp2w{color:var(--theme-ui-colors-success,rgb(0,180,0));font-weight:bold;font-size:0.9em;}</style><span class=\"css-1s1lp2w e1b8pdim24\" title=\"Up from #4 to #3\">▲ <!-- -->1</span></td><td class=\"css-5pqg6h e1gfm3lv0\">903<!-- --> <span class=\"css-1euet3f e1b8pdim29\">/ <!-- -->52<!-- --> post<!-- -->s</span></td><td class=\"css-5pqg6h e1gfm3lv0\">456</td><td class=\"css-1rojnx e1b8pdim17\"><span class=\"css-1ik7hc8 e1b8pdim11\"><a href=\"https://finance.yahoo.com/quote/TSLA/chart\">$<!-- --> <!-- -->732.23</a></span></td><td class=\"css-xbhtj5 e1b8pdim18\"><span class=\"css-163gdep e1b8pdim28\" title=\"Down from $762.32 to $732.23\">-30.09<!-- --> (<!-- -->-3.95<!-- -->%)</span></td><td class=\"css-12cmoq3 e1b8pdim14\" title=\"48,298,043\">48M</td><td class=\"css-xbhtj5 e1b8pdim18\"><span class=\"css-1e0z3kq e1b8pdim27\" title=\"Volume increased by 3.8M from 45M\">+<!-- -->8.45<!-- -->%</span></td><td class=\"css-12cmoq3 e1b8pdim14\">$<!-- --> <!-- -->702.83B</td></tr><tr><td class=\"css-1e317yx e1b8pdim19\">4<!-- -->.</td><td class=\"css-qgaxol e1b8pdim21\" title=\"...\"><span class=\"css-1sctek8 e1b8pdim9\"><a href=\"/SPY/\" style=\"font-weight:600\">SPY</a></span> <span class=\"css-8k7y81 e1b8pdim12\">(<!-- -->SPDR S&amp;P 500 ETF Trust<!-- -->)</span></td><td class=\"css-hogeaf e1b8pdim3\" title=\"NYSEArca (PCX)\">NYSE</td><td class=\"css-5pqg6h e1gfm3lv0\"><style data-emotion-css=\"ry58ni\">.css-ry58ni{color:var(--theme-ui-colors-error,#dc3545);font-weight:bold;font-size:0.9em;}</style><span class=\"css-ry58ni e1b8pdim25\" title=\"Down from #3 to #4\">▼ <!-- -->1</span></td><td class=\"css-5pqg6h e1gfm3lv0\">425<!-- --> <span class=\"css-1euet3f e1b8pdim29\">/ <!-- -->23<!-- --> post<!-- -->s</span></td><td class=\"css-5pqg6h e1gfm3lv0\">307</td><td class=\"css-1rojnx e1b8pdim17\"><span class=\"css-1ik7hc8 e1b8pdim11\"><a href=\"https://finance.yahoo.com/quote/SPY/chart\">$<!-- --> <!-- -->411.45</a></span></td><td class=\"css-xbhtj5 e1b8pdim18\"><span class=\"css-163gdep e1b8pdim28\" title=\"Down from $412.86 to $411.45\">-1.41<!-- --> (<!-- -->-0.35<!-- -->%)</span></td><td class=\"css-12cmoq3 e1b8pdim14\" title=\"56,145,363\">56M</td><td class=\"css-xbhtj5 e1b8pdim18\"><span class=\"css-163gdep e1b8pdim28\" title=\"Volume decreased by 308K from 56M\">-0.55<!-- -->%</span></td><td class=\"css-12cmoq3 e1b8pdim14\"></td></tr><tr><td class=\"css-1e317yx e1b8pdim19\">5<!-- -->.</td><td class=\"css-qgaxol e1b8pdim21\" title=\"AMC Entertainment Holdings, Inc., through its subsidiaries, involved in the theatrical exhibition business. The company owns, operates, or has interests in theatres. As of March 12, 2021, it operated ...\"><span class=\"css-1sctek8 e1b8pdim9\"><a href=\"/AMC/\" style=\"font-weight:600\">AMC</a></span> <span class=\"css-8k7y81 e1b8pdim12\">(<!-- -->AMC Entertainment Holdings, Inc.<!-- -->)</span></td><td class=\"css-hogeaf e1b8pdim3\" title=\"NYSE (NYQ)\">NYSE</td><td class=\"css-5pqg6h e1gfm3lv0\"><span class=\"css-9muxh2 e1b8pdim23\" title=\"No change\">⬌</span></td><td class=\"css-5pqg6h e1gfm3lv0\">302<!-- --> <span class=\"css-1euet3f e1b8pdim29\">/ <!-- -->51<!-- --> post<!-- -->s</span></td><td class=\"css-5pqg6h e1gfm3lv0\">255</td><td class=\"css-1rojnx e1b8pdim17\"><span class=\"css-1ik7hc8 e1b8pdim11\"><a href=\"https://finance.yahoo.com/quote/AMC/chart\">$<!-- --> <!-- -->9.35</a></span></td><td class=\"css-xbhtj5 e1b8pdim18\"><span class=\"css-1e0z3kq e1b8pdim27\" title=\"Up from $8.84 to $9.35\">+<!-- -->0.51<!-- --> (+<!-- -->5.76<!-- -->%)</span></td><td class=\"css-12cmoq3 e1b8pdim14\" title=\"50,636,982\">51M</td><td class=\"css-xbhtj5 e1b8pdim18\"><span class=\"css-1e0z3kq e1b8pdim27\" title=\"Volume increased by 6.8M from 44M\">+<!-- -->15.41<!-- -->%</span></td><td class=\"css-12cmoq3 e1b8pdim14\">$<!-- --> <!-- -->4.21B</td></tr><tr><td class=\"css-1e317yx e1b8pdim19\">6<!-- -->.</td><td class=\"css-qgaxol e1b8pdim21\" title=\"Apple Inc. designs, manufactures, and markets smartphones, personal computers, tablets, wearables, and accessories worldwide. It also sells various related services. The company offers iPhone, a line ...\"><span class=\"css-1sctek8 e1b8pdim9\"><a href=\"/AAPL/\" style=\"font-weight:600\">AAPL</a></span> <span class=\"css-8k7y81 e1b8pdim12\">(<!-- -->Apple Inc.<!-- -->)</span></td><td class=\"css-hogeaf e1b8pdim3\" title=\"NasdaqGS (NMS)\">NASDAQ</td><td class=\"css-5pqg6h e1gfm3lv0\"><span class=\"css-1s1lp2w e1b8pdim24\" title=\"Up from #9 to #6\">▲ <!-- -->3</span></td><td class=\"css-5pqg6h e1gfm3lv0\">298<!-- --> <span class=\"css-1euet3f e1b8pdim29\">/ <!-- -->16<!-- --> post<!-- -->s</span></td><td class=\"css-5pqg6h e1gfm3lv0\">167</td><td class=\"css-1rojnx e1b8pdim17\"><span class=\"css-1ik7hc8 e1b8pdim11\"><a href=\"https://finance.yahoo.com/quote/AAPL/chart\">$<!-- --> <!-- -->132.03</a></span></td><td class=\"css-xbhtj5 e1b8pdim18\"><span class=\"css-163gdep e1b8pdim28\" title=\"Down from $134.43 to $132.03\">-2.40<!-- --> (<!-- -->-1.79<!-- -->%)</span></td><td class=\"css-12cmoq3 e1b8pdim14\" title=\"83,184,339\">83M</td><td class=\"css-xbhtj5 e1b8pdim18\"><span class=\"css-163gdep e1b8pdim28\" title=\"Volume decreased by 7.9M from 91M\">-8.69<!-- -->%</span></td><td class=\"css-12cmoq3 e1b8pdim14\">$<!-- --> <!-- -->2.22T</td></tr><tr><td class=\"css-1e317yx e1b8pdim19\">7<!-- -->.</td><td class=\"css-qgaxol e1b8pdim21\" title=\"Advanced Micro Devices, Inc. operates as a semiconductor company worldwide. The company operates in two segments, Computing and Graphics; and Enterprise, Embedded and Semi-Custom. Its products include...\"><span class=\"css-1sctek8 e1b8pdim9\"><a href=\"/AMD/\" style=\"font-weight:600\">AMD</a></span> <span class=\"css-8k7y81 e1b8pdim12\">(<!-- -->Advanced Micro Devices, Inc.<!-- -->)</span></td><td class=\"css-hogeaf e1b8pdim3\" title=\"NasdaqGS (NMS)\">NASDAQ</td><td class=\"css-5pqg6h e1gfm3lv0\"><span class=\"css-1s1lp2w e1b8pdim24\" title=\"Up from #8 to #7\">▲ <!-- -->1</span></td><td class=\"css-5pqg6h e1gfm3lv0\">156<!-- --> <span class=\"css-1euet3f e1b8pdim29\">/ <!-- -->21<!-- --> post<!-- -->s</span></td><td class=\"css-5pqg6h e1gfm3lv0\">115</td><td class=\"css-1rojnx e1b8pdim17\"><span class=\"css-1ik7hc8 e1b8pdim11\"><a href=\"https://finance.yahoo.com/quote/AMD/chart\">$<!-- --> <!-- -->78.55</a></span></td><td class=\"css-xbhtj5 e1b8pdim18\"><span class=\"css-163gdep e1b8pdim28\" title=\"Down from $80.19 to $78.55\">-1.64<!-- --> (<!-- -->-2.05<!-- -->%)</span></td><td class=\"css-12cmoq3 e1b8pdim14\" title=\"33,639,608\">34M</td><td class=\"css-xbhtj5 e1b8pdim18\"><span class=\"css-163gdep e1b8pdim28\" title=\"Volume decreased by 4.1M from 38M\">-10.85<!-- -->%</span></td><td class=\"css-12cmoq3 e1b8pdim14\">$<!-- --> <!-- -->95.41B</td></tr><tr><td class=\"css-1e317yx e1b8pdim19\">8<!-- -->.</td><td class=\"css-qgaxol e1b8pdim21\" title=\"Riot Blockchain, Inc., together with its subsidiaries, focuses on cryptocurrency mining operation in North America. The company primarily focuses on bitcoin mining. As of December 31, 2020, it operate...\"><span class=\"css-1sctek8 e1b8pdim9\"><a href=\"/RIOT/\" style=\"font-weight:600\">RIOT</a></span> <span class=\"css-8k7y81 e1b8pdim12\">(<!-- -->Riot Blockchain, Inc.<!-- -->)</span></td><td class=\"css-hogeaf e1b8pdim3\" title=\"NasdaqGS (NMS)\">NASDAQ</td><td class=\"css-5pqg6h e1gfm3lv0\"><span class=\"css-1s1lp2w e1b8pdim24\" title=\"Up from #23 to #8\">▲ <!-- -->15</span></td><td class=\"css-5pqg6h e1gfm3lv0\">137<!-- --> <span class=\"css-1euet3f e1b8pdim29\">/ <!-- -->13<!-- --> post<!-- -->s</span></td><td class=\"css-5pqg6h e1gfm3lv0\">103</td><td class=\"css-1rojnx e1b8pdim17\"><span class=\"css-1ik7hc8 e1b8pdim11\"><a href=\"https://finance.yahoo.com/quote/RIOT/chart\">$<!-- --> <!-- -->50.16</a></span></td><td class=\"css-xbhtj5 e1b8pdim18\"><span class=\"css-163gdep e1b8pdim28\" title=\"Down from $59.26 to $50.16\">-9.10<!-- --> (<!-- -->-15.36<!-- -->%)</span></td><td class=\"css-12cmoq3 e1b8pdim14\" title=\"52,288,050\">52M</td><td class=\"css-xbhtj5 e1b8pdim18\"><span class=\"css-1e0z3kq e1b8pdim27\" title=\"Volume increased by 10M from 42M\">+<!-- -->24.56<!-- -->%</span></td><td class=\"css-12cmoq3 e1b8pdim14\">$<!-- --> <!-- -->4.22B</td></tr><tr><td class=\"css-1e317yx e1b8pdim19\">9<!-- -->.</td><td class=\"css-qgaxol e1b8pdim21\" title=\"Aphria Inc. cultivates, processes, produces, markets, distributes, and sells medical cannabis in Canada and internationally. The company offers pharmaceutical-grade medical cannabis, adult-use cannabi...\"><span class=\"css-1sctek8 e1b8pdim9\"><a href=\"/APHA/\" style=\"font-weight:600\">APHA</a></span> <span class=\"css-8k7y81 e1b8pdim12\">(<!-- -->Aphria Inc.<!-- -->)</span></td><td class=\"css-hogeaf e1b8pdim3\" title=\"NasdaqGS (NMS)\">NASDAQ</td><td class=\"css-5pqg6h e1gfm3lv0\"><span class=\"css-ry58ni e1b8pdim25\" title=\"Down from #6 to #9\">▼ <!-- -->3</span></td><td class=\"css-5pqg6h e1gfm3lv0\">134<!-- --> <span class=\"css-1euet3f e1b8pdim29\">/ <!-- -->11<!-- --> post<!-- -->s</span></td><td class=\"css-5pqg6h e1gfm3lv0\">85</td><td class=\"css-1rojnx e1b8pdim17\"><span class=\"css-1ik7hc8 e1b8pdim11\"><a href=\"https://finance.yahoo.com/quote/APHA/chart\">$<!-- --> <!-- -->14.23</a></span></td><td class=\"css-xbhtj5 e1b8pdim18\"><span class=\"css-163gdep e1b8pdim28\" title=\"Down from $14.85 to $14.23\">-0.62<!-- --> (<!-- -->-4.18<!-- -->%)</span></td><td class=\"css-12cmoq3 e1b8pdim14\" title=\"13,645,495\">14M</td><td class=\"css-xbhtj5 e1b8pdim18\"><span class=\"css-163gdep e1b8pdim28\" title=\"Volume decreased by 6.5M from 20M\">-32.10<!-- -->%</span></td><td class=\"css-12cmoq3 e1b8pdim14\">$<!-- --> <!-- -->4.48B</td></tr><tr><td class=\"css-1e317yx e1b8pdim19\">10<!-- -->.</td><td class=\"css-qgaxol e1b8pdim21\" title=\"Square, Inc., together with its subsidiaries, creates tools that enables sellers to accept card payments; also provide reporting and analytics, and next-day settlement. It provides hardware products, ...\"><span class=\"css-1sctek8 e1b8pdim9\"><a href=\"/SQ/\" style=\"font-weight:600\">SQ</a></span> <span class=\"css-8k7y81 e1b8pdim12\">(<!-- -->Square, Inc.<!-- -->)</span></td><td class=\"css-hogeaf e1b8pdim3\" title=\"NYSE (NYQ)\">NYSE</td><td class=\"css-5pqg6h e1gfm3lv0\"><span class=\"css-1s1lp2w e1b8pdim24\" title=\"Up from #24 to #10\">▲ <!-- -->14</span></td><td class=\"css-5pqg6h e1gfm3lv0\">134<!-- --> <span class=\"css-1euet3f e1b8pdim29\">/ <!-- -->8<!-- --> post<!-- -->s</span></td><td class=\"css-5pqg6h e1gfm3lv0\">60</td><td class=\"css-1rojnx e1b8pdim17\"><span class=\"css-1ik7hc8 e1b8pdim11\"><a href=\"https://finance.yahoo.com/quote/SQ/chart\">$<!-- --> <!-- -->258.40</a></span></td><td class=\"css-xbhtj5 e1b8pdim18\"><span class=\"css-163gdep e1b8pdim28\" title=\"Down from $273.23 to $258.4\">-14.83<!-- --> (<!-- -->-5.43<!-- -->%)</span></td><td class=\"css-12cmoq3 e1b8pdim14\" title=\"12,205,294\">12M</td><td class=\"css-xbhtj5 e1b8pdim18\"><span class=\"css-1e0z3kq e1b8pdim27\" title=\"Volume increased by 1.7M from 11M\">+<!-- -->15.81<!-- -->%</span></td><td class=\"css-12cmoq3 e1b8pdim14\">$<!-- --> <!-- -->117.47B</td></tr></tbody><style data-emotion-css=\"14f40c0\">.css-14f40c0{-webkit-transition:background 0.25s var(--ease-in-out-quad),color 0.25s var(--ease-in-out-quad);transition:background 0.25s var(--ease-in-out-quad),color 0.25s var(--ease-in-out-quad);}</style><tfoot class=\"css-14f40c0 e74283o0\"><tr><style data-emotion-css=\"1nj1no7\">.css-1nj1no7{border-top:1px solid var(--theme-ui-colors-horizontalRule,rgba(8,8,11,0.15));background:var(--theme-ui-colors-card,#fff);white-space:nowrap;padding:0.17rem 0.5rem;font-size:14.667px;border-collapse:collapse;color:var(--theme-ui-colors-articleTextLight,rgb(66,66,88));border-top:1px solid var(--theme-ui-colors-horizontalRule,rgba(8,8,11,0.15));background-color:var(--theme-ui-colors-tableFooter,#efefef);}</style><td class=\"css-1nj1no7 evl5nzs0\" colspan=\"9\" style=\"opacity:0.95\"><b>Ranks <!-- -->11<!-- -->-<!-- -->15<!-- -->:<!-- --> </b><style data-emotion-css=\"3b5zax\">.css-3b5zax a,.css-3b5zax a:hover,.css-3b5zax a:visited{color:var(--theme-ui-colors-primary,#000) !important;}</style><span class=\"css-3b5zax e1b8pdim26\" title=\"BlackBerry Limited with 125 comments\"><span class=\"css-1sctek8 e1b8pdim9\"><a href=\"/BB/\">BB</a></span> <!-- --> <!-- -->(<span class=\"css-1s1lp2w e1b8pdim24\" title=\"Up from #13 to #11\">+<!-- -->2</span>)<!-- -->, </span><span class=\"css-3b5zax e1b8pdim26\" title=\"NIO Inc. with 98 comments\"><span class=\"css-1sctek8 e1b8pdim9\"><a href=\"/NIO/\">NIO</a></span> <!-- --> <!-- -->(<span class=\"css-1s1lp2w e1b8pdim24\" title=\"Up from #15 to #12\">+<!-- -->3</span>)<!-- -->, </span><span class=\"css-3b5zax e1b8pdim26\" title=\"Lordstown Motors Corp. with 97 comments\"><span class=\"css-1sctek8 e1b8pdim9\"><a href=\"/RIDE/\">RIDE</a></span> <!-- --> <!-- -->(<span class=\"css-1s1lp2w e1b8pdim24\" title=\"Up from #33 to #13\">+<!-- -->20</span>)<!-- -->, </span><span class=\"css-3b5zax e1b8pdim26\" title=\"Tilray, Inc. with 94 comments\"><span class=\"css-1sctek8 e1b8pdim9\"><a href=\"/TLRY/\">TLRY</a></span> <!-- --> <!-- -->(<span class=\"css-ry58ni e1b8pdim25\" title=\"Down from #12 to #14\">-<!-- -->2</span>)<!-- -->, </span><span class=\"css-3b5zax e1b8pdim26\" title=\"ViacomCBS Inc. with 91 comments\"><span class=\"css-1sctek8 e1b8pdim9\"><a href=\"/VIAC/\">VIAC</a></span> <!-- --> <!-- -->(<span class=\"css-ry58ni e1b8pdim25\" title=\"Down from #14 to #15\">-<!-- -->1</span>)</span></td><td class=\"css-1nj1no7 evl5nzs0\" colspan=\"2\" style=\"opacity:0.95;text-align:right\"><span role=\"button\" style=\"cursor:pointer;font-weight:bold\">Expand [+]</span></td></tr></tfoot></table>\n"
     ]
    }
   ],
   "source": [
    "# Initiate beautiful and list element to extract all the rows in the table\n",
    "soup = BeautifulSoup(r.content, \"html.parser\")\n",
    "table = soup.find_all('table')[0]\n",
    "print(\"table is \", table)\n",
    "rows = table.find_all('tr')\n",
    "row_list = list()"
   ]
  },
  {
   "cell_type": "code",
   "execution_count": 5,
   "metadata": {},
   "outputs": [
    {
     "name": "stdout",
     "output_type": "stream",
     "text": [
      "Row is  []\n",
      "Row is  ['1.', 'GME (GameStop Corp.)', 'NYSE', '⬌', '2,971 / 157 posts', '2138', '$ 166.53', '+25.54 (+18.11%)', '21M', '+209.0%', '$ 11.66B']\n",
      "Row is  ['2.', 'PLTR (Palantir Technologies Inc.)', 'NYSE', '⬌', '1,369 / 53 posts', '770', '$ 23.70', '-1.72 (-6.77%)', '107M', '+28.40%', '$ 43.19B']\n",
      "Row is  ['3.', 'TSLA (Tesla, Inc.)', 'NASDAQ', '▲ 1', '903 / 52 posts', '456', '$ 732.23', '-30.09 (-3.95%)', '48M', '+8.45%', '$ 702.83B']\n",
      "Row is  ['4.', 'SPY (SPDR S&P 500 ETF Trust)', 'NYSE', '▼ 1', '425 / 23 posts', '307', '$ 411.45', '-1.41 (-0.35%)', '56M', '-0.55%', '']\n",
      "Row is  ['5.', 'AMC (AMC Entertainment Holdings, Inc.)', 'NYSE', '⬌', '302 / 51 posts', '255', '$ 9.35', '+0.51 (+5.76%)', '51M', '+15.41%', '$ 4.21B']\n",
      "Row is  ['6.', 'AAPL (Apple Inc.)', 'NASDAQ', '▲ 3', '298 / 16 posts', '167', '$ 132.03', '-2.40 (-1.79%)', '83M', '-8.69%', '$ 2.22T']\n",
      "Row is  ['7.', 'AMD (Advanced Micro Devices, Inc.)', 'NASDAQ', '▲ 1', '156 / 21 posts', '115', '$ 78.55', '-1.64 (-2.05%)', '34M', '-10.85%', '$ 95.41B']\n",
      "Row is  ['8.', 'RIOT (Riot Blockchain, Inc.)', 'NASDAQ', '▲ 15', '137 / 13 posts', '103', '$ 50.16', '-9.10 (-15.36%)', '52M', '+24.56%', '$ 4.22B']\n",
      "Row is  ['9.', 'APHA (Aphria Inc.)', 'NASDAQ', '▼ 3', '134 / 11 posts', '85', '$ 14.23', '-0.62 (-4.18%)', '14M', '-32.10%', '$ 4.48B']\n",
      "Row is  ['10.', 'SQ (Square, Inc.)', 'NYSE', '▲ 14', '134 / 8 posts', '60', '$ 258.40', '-14.83 (-5.43%)', '12M', '+15.81%', '$ 117.47B']\n",
      "Row is  ['Ranks 11-15: BB  (+2), NIO  (+3), RIDE  (+20), TLRY  (-2), VIAC  (-1)', 'Expand [+]']\n"
     ]
    }
   ],
   "source": [
    "# Iterate through all of the rows in table and get through each of the cell to append it into rows and row_list\n",
    "for tr in rows:\n",
    "    td = tr.find_all('td')\n",
    "    row = [i.text for i in td]\n",
    "    row_list.append(row)\n",
    "    print(\"Row is \", row)"
   ]
  },
  {
   "cell_type": "code",
   "execution_count": 6,
   "metadata": {},
   "outputs": [
    {
     "name": "stdout",
     "output_type": "stream",
     "text": [
      "  Number                            Company Stock Exchange  Rank  \\\n",
      "0   None                               None           None  None   \n",
      "1     1.               GME (GameStop Corp.)           NYSE     ⬌   \n",
      "2     2.  PLTR (Palantir Technologies Inc.)           NYSE     ⬌   \n",
      "3     3.                 TSLA (Tesla, Inc.)         NASDAQ   ▲ 1   \n",
      "4     4.       SPY (SPDR S&P 500 ETF Trust)           NYSE   ▼ 1   \n",
      "\n",
      "      Comments/Posts Users     Price      Price Change Volume  \\\n",
      "0               None  None      None              None   None   \n",
      "1  2,971 / 157 posts  2138  $ 166.53  +25.54 (+18.11%)    21M   \n",
      "2   1,369 / 53 posts   770   $ 23.70    -1.72 (-6.77%)   107M   \n",
      "3     903 / 52 posts   456  $ 732.23   -30.09 (-3.95%)    48M   \n",
      "4     425 / 23 posts   307  $ 411.45    -1.41 (-0.35%)    56M   \n",
      "\n",
      "  Price Change in the last 24h Market Cap  \n",
      "0                         None       None  \n",
      "1                      +209.0%   $ 11.66B  \n",
      "2                      +28.40%   $ 43.19B  \n",
      "3                       +8.45%  $ 702.83B  \n",
      "4                       -0.55%             \n"
     ]
    }
   ],
   "source": [
    "# Create Pandas Dataframe and print it\n",
    "df_redditwallstreetbets = pd.DataFrame(row_list,columns=['Number', 'Company', 'Stock Exchange', 'Rank', 'Comments/Posts', 'Users', 'Price', 'Price Change', 'Volume', 'Price Change in the last 24h', 'Market Cap'])\n",
    "df_redditwallstreetbets.drop(df_redditwallstreetbets.tail(1).index, inplace = True)\n",
    "print(df_redditwallstreetbets.head())"
   ]
  },
  {
   "cell_type": "code",
   "execution_count": 7,
   "metadata": {},
   "outputs": [],
   "source": [
    "# Exporting the data into csv\n",
    "df_redditwallstreetbets.to_csv('beautifulsoup_reddit_wallstreetbets.csv')"
   ]
  },
  {
   "cell_type": "markdown",
   "metadata": {},
   "source": [
    "### 1.2 Reddit Stocks and Investing Communities"
   ]
  },
  {
   "cell_type": "code",
   "execution_count": 8,
   "metadata": {},
   "outputs": [
    {
     "name": "stdout",
     "output_type": "stream",
     "text": [
      "table is  <table class=\"css-s8p85f enavj7y0\"><thead class=\"css-1l2ao05 ewoxf2k0\"><tr><th class=\"css-si2cnr e1b8pdim20\">#</th><th class=\"css-6m1lpl eedk6v90\" title=\"The ticker symbol and company name\">Symbol (Name)</th><th class=\"css-6m1lpl e1b8pdim2\" title=\"The exchange the ticker trades on\"> </th><th class=\"css-6m1lpl eedk6v90\" title=\"The relative rank (momentum) compared to yesterday, green arrow means more popular, red less and gray no change\">Rank</th><th class=\"css-6m1lpl eedk6v90\" title=\"The number of comments (and posts) mentioning the ticker symbol or company name\">Comments</th><th class=\"css-6m1lpl eedk6v90\" title=\"The number of unique users commenting with the ticker symbol\">Users</th><th class=\"css-mb9agh e1b8pdim5\" title=\"The last closing price\">Price</th><th class=\"css-42a0y e1b8pdim8\" title=\"The change between the closing price of Yesterday and Today\"></th><th class=\"css-6m1lpl eedk6v90\" title=\"The volume in the last day of trading\">Vol</th><th class=\"css-42a0y e1b8pdim8\" title=\"The increase in volume compared to the previous day\">24h</th><th class=\"css-1xe603f e1b8pdim4\" title=\"The market cap\">Mrkt Cap.</th></tr></thead><tbody class=\"css-4cndp eotjedu0\"><tr><td class=\"css-1e317yx e1b8pdim19\">1<!-- -->.</td><td class=\"css-qgaxol e1b8pdim21\" title=\"GameStop Corp., a specialty retailer, provides games and entertainment products through its e-commerce properties and various stores in the United States, Canada, Australia, and Europe. The company se...\"><span class=\"css-1sctek8 e1b8pdim9\"><a href=\"/GME/\" style=\"font-weight:600\">GME</a></span> <span class=\"css-8k7y81 e1b8pdim12\">(<!-- -->GameStop Corp.<!-- -->)</span></td><td class=\"css-hogeaf e1b8pdim3\" title=\"NYSE (NYQ)\">NYSE</td><td class=\"css-5pqg6h e1gfm3lv0\"><span class=\"css-1s1lp2w e1b8pdim24\" title=\"Up from #2 to #1\">▲ <!-- -->1</span></td><td class=\"css-5pqg6h e1gfm3lv0\">25<!-- --> <span class=\"css-1euet3f e1b8pdim29\">/ <!-- -->11<!-- --> post<!-- -->s</span></td><td class=\"css-5pqg6h e1gfm3lv0\">21</td><td class=\"css-1rojnx e1b8pdim17\"><span class=\"css-1ik7hc8 e1b8pdim11\"><a href=\"https://finance.yahoo.com/quote/GME/chart\">$<!-- --> <!-- -->166.53</a></span></td><td class=\"css-xbhtj5 e1b8pdim18\"><span class=\"css-1e0z3kq e1b8pdim27\" title=\"Up from $140.99 to $166.53\">+<!-- -->25.54<!-- --> (+<!-- -->18.11<!-- -->%)</span></td><td class=\"css-12cmoq3 e1b8pdim14\" title=\"20,965,297\">21M</td><td class=\"css-xbhtj5 e1b8pdim18\"><span class=\"css-1e0z3kq e1b8pdim27\" title=\"Volume increased by 14M from 6.8M\">+<!-- -->209.0<!-- -->%</span></td><td class=\"css-12cmoq3 e1b8pdim14\">$<!-- --> <!-- -->11.66B</td></tr><tr><td class=\"css-1e317yx e1b8pdim19\">2<!-- -->.</td><td class=\"css-qgaxol e1b8pdim21\" title=\"The Goldman Sachs Group, Inc., a financial institution, provides range of financial services for corporations, financial institutions, governments, and individuals worldwide. It operates through four ...\"><span class=\"css-1sctek8 e1b8pdim9\"><a href=\"/GS/\" style=\"font-weight:600\">GS</a></span> <span class=\"css-8k7y81 e1b8pdim12\">(<!-- -->The Goldman Sachs Group, Inc.<!-- -->)</span></td><td class=\"css-hogeaf e1b8pdim3\" title=\"NYSE (NYQ)\">NYSE</td><td class=\"css-5pqg6h e1gfm3lv0\"><span class=\"css-1s1lp2w e1b8pdim24\" title=\"Up from #25 to #2\">▲ <!-- -->23</span></td><td class=\"css-5pqg6h e1gfm3lv0\">24<!-- --> <span class=\"css-1euet3f e1b8pdim29\">/ <!-- -->8<!-- --> post<!-- -->s</span></td><td class=\"css-5pqg6h e1gfm3lv0\">18</td><td class=\"css-1rojnx e1b8pdim17\"><span class=\"css-1ik7hc8 e1b8pdim11\"><a href=\"https://finance.yahoo.com/quote/GS/chart\">$<!-- --> <!-- -->335.35</a></span></td><td class=\"css-xbhtj5 e1b8pdim18\"><span class=\"css-1e0z3kq e1b8pdim27\" title=\"Up from $327.68 to $335.35\">+<!-- -->7.67<!-- --> (+<!-- -->2.34<!-- -->%)</span></td><td class=\"css-12cmoq3 e1b8pdim14\" title=\"9,787,465\">9.8M</td><td class=\"css-xbhtj5 e1b8pdim18\"><span class=\"css-1e0z3kq e1b8pdim27\" title=\"Volume increased by 6.2M from 3.6M\">+<!-- -->174.2<!-- -->%</span></td><td class=\"css-12cmoq3 e1b8pdim14\">$<!-- --> <!-- -->114.09B</td></tr><tr><td class=\"css-1e317yx e1b8pdim19\">3<!-- -->.</td><td class=\"css-qgaxol e1b8pdim21\" title=\"Tesla, Inc. designs, develops, manufactures, leases, and sells electric vehicles, and energy generation and storage systems in the United States, China, and internationally. The company operates in tw...\"><span class=\"css-1sctek8 e1b8pdim9\"><a href=\"/TSLA/\" style=\"font-weight:600\">TSLA</a></span> <span class=\"css-8k7y81 e1b8pdim12\">(<!-- -->Tesla, Inc.<!-- -->)</span></td><td class=\"css-hogeaf e1b8pdim3\" title=\"NasdaqGS (NMS)\">NASDAQ</td><td class=\"css-5pqg6h e1gfm3lv0\"><span class=\"css-1s1lp2w e1b8pdim24\" title=\"Up from #6 to #3\">▲ <!-- -->3</span></td><td class=\"css-5pqg6h e1gfm3lv0\">23<!-- --> <span class=\"css-1euet3f e1b8pdim29\">/ <!-- -->9<!-- --> post<!-- -->s</span></td><td class=\"css-5pqg6h e1gfm3lv0\">20</td><td class=\"css-1rojnx e1b8pdim17\"><span class=\"css-1ik7hc8 e1b8pdim11\"><a href=\"https://finance.yahoo.com/quote/TSLA/chart\">$<!-- --> <!-- -->732.23</a></span></td><td class=\"css-xbhtj5 e1b8pdim18\"><span class=\"css-163gdep e1b8pdim28\" title=\"Down from $762.32 to $732.23\">-30.09<!-- --> (<!-- -->-3.95<!-- -->%)</span></td><td class=\"css-12cmoq3 e1b8pdim14\" title=\"48,298,043\">48M</td><td class=\"css-xbhtj5 e1b8pdim18\"><span class=\"css-1e0z3kq e1b8pdim27\" title=\"Volume increased by 3.8M from 45M\">+<!-- -->8.45<!-- -->%</span></td><td class=\"css-12cmoq3 e1b8pdim14\">$<!-- --> <!-- -->702.83B</td></tr><tr><td class=\"css-1e317yx e1b8pdim19\">4<!-- -->.</td><td class=\"css-qgaxol e1b8pdim21\" title=\"...\"><span class=\"css-1sctek8 e1b8pdim9\"><a href=\"/VTI/\" style=\"font-weight:600\">VTI</a></span> <span class=\"css-8k7y81 e1b8pdim12\">(<!-- -->Vanguard Total Stock Market Index Fund ETF Shares<!-- -->)</span></td><td class=\"css-hogeaf e1b8pdim3\" title=\"NYSEArca (PCX)\">NYSE</td><td class=\"css-5pqg6h e1gfm3lv0\"><span class=\"css-ry58ni e1b8pdim25\" title=\"Down from #3 to #4\">▼ <!-- -->1</span></td><td class=\"css-5pqg6h e1gfm3lv0\">21<!-- --> <span class=\"css-1euet3f e1b8pdim29\">/ <!-- -->7<!-- --> post<!-- -->s</span></td><td class=\"css-5pqg6h e1gfm3lv0\">17</td><td class=\"css-1rojnx e1b8pdim17\"><span class=\"css-1ik7hc8 e1b8pdim11\"><a href=\"https://finance.yahoo.com/quote/VTI/chart\">$<!-- --> <!-- -->214.32</a></span></td><td class=\"css-xbhtj5 e1b8pdim18\"><span class=\"css-163gdep e1b8pdim28\" title=\"Down from $214.8 to $214.32\">-0.48<!-- --> (<!-- -->-0.23<!-- -->%)</span></td><td class=\"css-12cmoq3 e1b8pdim14\" title=\"3,678,337\">3.7M</td><td class=\"css-xbhtj5 e1b8pdim18\"><span class=\"css-163gdep e1b8pdim28\" title=\"Volume decreased by 376K from 4.1M\">-9.29<!-- -->%</span></td><td class=\"css-12cmoq3 e1b8pdim14\"></td></tr><tr><td class=\"css-1e317yx e1b8pdim19\">5<!-- -->.</td><td class=\"css-qgaxol e1b8pdim21\" title=\"Palantir Technologies Inc. builds and deploys software platforms for the intelligence community in the United States to assist in counterterrorism investigations and operations. The company provides P...\"><span class=\"css-1sctek8 e1b8pdim9\"><a href=\"/PLTR/\" style=\"font-weight:600\">PLTR</a></span> <span class=\"css-8k7y81 e1b8pdim12\">(<!-- -->Palantir Technologies Inc.<!-- -->)</span></td><td class=\"css-hogeaf e1b8pdim3\" title=\"NYSE (NYQ)\">NYSE</td><td class=\"css-5pqg6h e1gfm3lv0\"><span class=\"css-1s1lp2w e1b8pdim24\" title=\"Up from #25 to #5\">▲ <!-- -->20</span></td><td class=\"css-5pqg6h e1gfm3lv0\">20<!-- --> <span class=\"css-1euet3f e1b8pdim29\">/ <!-- -->9<!-- --> post<!-- -->s</span></td><td class=\"css-5pqg6h e1gfm3lv0\">19</td><td class=\"css-1rojnx e1b8pdim17\"><span class=\"css-1ik7hc8 e1b8pdim11\"><a href=\"https://finance.yahoo.com/quote/PLTR/chart\">$<!-- --> <!-- -->23.70</a></span></td><td class=\"css-xbhtj5 e1b8pdim18\"><span class=\"css-163gdep e1b8pdim28\" title=\"Down from $25.42 to $23.7\">-1.72<!-- --> (<!-- -->-6.77<!-- -->%)</span></td><td class=\"css-12cmoq3 e1b8pdim14\" title=\"107,136,193\">107M</td><td class=\"css-xbhtj5 e1b8pdim18\"><span class=\"css-1e0z3kq e1b8pdim27\" title=\"Volume increased by 24M from 83M\">+<!-- -->28.40<!-- -->%</span></td><td class=\"css-12cmoq3 e1b8pdim14\">$<!-- --> <!-- -->43.19B</td></tr><tr><td class=\"css-1e317yx e1b8pdim19\">6<!-- -->.</td><td class=\"css-qgaxol e1b8pdim21\" title=\"...\"><span class=\"css-1sctek8 e1b8pdim9\"><a href=\"/SPY/\" style=\"font-weight:600\">SPY</a></span> <span class=\"css-8k7y81 e1b8pdim12\">(<!-- -->SPDR S&amp;P 500 ETF Trust<!-- -->)</span></td><td class=\"css-hogeaf e1b8pdim3\" title=\"NYSEArca (PCX)\">NYSE</td><td class=\"css-5pqg6h e1gfm3lv0\"><span class=\"css-1s1lp2w e1b8pdim24\" title=\"Up from #10 to #6\">▲ <!-- -->4</span></td><td class=\"css-5pqg6h e1gfm3lv0\">14<!-- --> <span class=\"css-1euet3f e1b8pdim29\">/ <!-- -->7<!-- --> post<!-- -->s</span></td><td class=\"css-5pqg6h e1gfm3lv0\">10</td><td class=\"css-1rojnx e1b8pdim17\"><span class=\"css-1ik7hc8 e1b8pdim11\"><a href=\"https://finance.yahoo.com/quote/SPY/chart\">$<!-- --> <!-- -->411.45</a></span></td><td class=\"css-xbhtj5 e1b8pdim18\"><span class=\"css-163gdep e1b8pdim28\" title=\"Down from $412.86 to $411.45\">-1.41<!-- --> (<!-- -->-0.35<!-- -->%)</span></td><td class=\"css-12cmoq3 e1b8pdim14\" title=\"56,145,363\">56M</td><td class=\"css-xbhtj5 e1b8pdim18\"><span class=\"css-163gdep e1b8pdim28\" title=\"Volume decreased by 308K from 56M\">-0.55<!-- -->%</span></td><td class=\"css-12cmoq3 e1b8pdim14\"></td></tr><tr><td class=\"css-1e317yx e1b8pdim19\">7<!-- -->.</td><td class=\"css-qgaxol e1b8pdim21\" title=\"Apple Inc. designs, manufactures, and markets smartphones, personal computers, tablets, wearables, and accessories worldwide. It also sells various related services. The company offers iPhone, a line ...\"><span class=\"css-1sctek8 e1b8pdim9\"><a href=\"/AAPL/\" style=\"font-weight:600\">AAPL</a></span> <span class=\"css-8k7y81 e1b8pdim12\">(<!-- -->Apple Inc.<!-- -->)</span></td><td class=\"css-hogeaf e1b8pdim3\" title=\"NasdaqGS (NMS)\">NASDAQ</td><td class=\"css-5pqg6h e1gfm3lv0\"><span class=\"css-ry58ni e1b8pdim25\" title=\"Down from #1 to #7\">▼ <!-- -->6</span></td><td class=\"css-5pqg6h e1gfm3lv0\">12<!-- --> <span class=\"css-1euet3f e1b8pdim29\">/ <!-- -->11<!-- --> post<!-- -->s</span></td><td class=\"css-5pqg6h e1gfm3lv0\">12</td><td class=\"css-1rojnx e1b8pdim17\"><span class=\"css-1ik7hc8 e1b8pdim11\"><a href=\"https://finance.yahoo.com/quote/AAPL/chart\">$<!-- --> <!-- -->132.03</a></span></td><td class=\"css-xbhtj5 e1b8pdim18\"><span class=\"css-163gdep e1b8pdim28\" title=\"Down from $134.43 to $132.03\">-2.40<!-- --> (<!-- -->-1.79<!-- -->%)</span></td><td class=\"css-12cmoq3 e1b8pdim14\" title=\"83,184,339\">83M</td><td class=\"css-xbhtj5 e1b8pdim18\"><span class=\"css-163gdep e1b8pdim28\" title=\"Volume decreased by 7.9M from 91M\">-8.69<!-- -->%</span></td><td class=\"css-12cmoq3 e1b8pdim14\">$<!-- --> <!-- -->2.22T</td></tr><tr><td class=\"css-1e317yx e1b8pdim19\">8<!-- -->.</td><td class=\"css-qgaxol e1b8pdim21\" title=\"...\"><span class=\"css-1sctek8 e1b8pdim9\"><a href=\"/VOO/\" style=\"font-weight:600\">VOO</a></span> <span class=\"css-8k7y81 e1b8pdim12\">(<!-- -->Vanguard S&amp;P 500 ETF<!-- -->)</span></td><td class=\"css-hogeaf e1b8pdim3\" title=\"NYSEArca (PCX)\">NYSE</td><td class=\"css-5pqg6h e1gfm3lv0\"><span class=\"css-ry58ni e1b8pdim25\" title=\"Down from #4 to #8\">▼ <!-- -->4</span></td><td class=\"css-5pqg6h e1gfm3lv0\">11<!-- --> <span class=\"css-1euet3f e1b8pdim29\">/ <!-- -->6<!-- --> post<!-- -->s</span></td><td class=\"css-5pqg6h e1gfm3lv0\">9</td><td class=\"css-1rojnx e1b8pdim17\"><span class=\"css-1ik7hc8 e1b8pdim11\"><a href=\"https://finance.yahoo.com/quote/VOO/chart\">$<!-- --> <!-- -->378.23</a></span></td><td class=\"css-xbhtj5 e1b8pdim18\"><span class=\"css-163gdep e1b8pdim28\" title=\"Down from $379.45 to $378.23\">-1.22<!-- --> (<!-- -->-0.33<!-- -->%)</span></td><td class=\"css-12cmoq3 e1b8pdim14\" title=\"3,310,184\">3.3M</td><td class=\"css-xbhtj5 e1b8pdim18\"><span class=\"css-1e0z3kq e1b8pdim27\" title=\"Volume increased by 329K from 3M\">+<!-- -->11.02<!-- -->%</span></td><td class=\"css-12cmoq3 e1b8pdim14\"></td></tr><tr><td class=\"css-1e317yx e1b8pdim19\">9<!-- -->.</td><td class=\"css-qgaxol e1b8pdim21\" title=\"...\"><span class=\"css-1sctek8 e1b8pdim9\"><a href=\"/ARKF/\" style=\"font-weight:600\">ARKF</a></span> <span class=\"css-8k7y81 e1b8pdim12\">(<!-- -->ARK Fintech Innovation ETF<!-- -->)</span></td><td class=\"css-hogeaf e1b8pdim3\" title=\"NYSEArca (PCX)\">NYSE</td><td class=\"css-5pqg6h e1gfm3lv0\"><span class=\"css-1s1lp2w e1b8pdim24\" title=\"Up from #25 to #9\">▲ <!-- -->16</span></td><td class=\"css-5pqg6h e1gfm3lv0\">10<!-- --> <span class=\"css-1euet3f e1b8pdim29\">/ <!-- -->4<!-- --> post<!-- -->s</span></td><td class=\"css-5pqg6h e1gfm3lv0\">10</td><td class=\"css-1rojnx e1b8pdim17\"><span class=\"css-1ik7hc8 e1b8pdim11\"><a href=\"https://finance.yahoo.com/quote/ARKF/chart\">$<!-- --> <!-- -->53.71</a></span></td><td class=\"css-xbhtj5 e1b8pdim18\"><span class=\"css-163gdep e1b8pdim28\" title=\"Down from $55.18 to $53.71\">-1.47<!-- --> (<!-- -->-2.67<!-- -->%)</span></td><td class=\"css-12cmoq3 e1b8pdim14\" title=\"2,259,630\">2.3M</td><td class=\"css-xbhtj5 e1b8pdim18\"><span class=\"css-1e0z3kq e1b8pdim27\" title=\"Volume increased by 0.7M from 1.6M\">+<!-- -->41.94<!-- -->%</span></td><td class=\"css-12cmoq3 e1b8pdim14\"></td></tr><tr><td class=\"css-1e317yx e1b8pdim19\">10<!-- -->.</td><td class=\"css-qgaxol e1b8pdim21\" title=\"General Motors Company designs, builds, and sells cars, trucks, crossovers, and automobile parts worldwide. The company operates through GM North America, GM International, Cruise, and GM Financial se...\"><span class=\"css-1sctek8 e1b8pdim9\"><a href=\"/GM/\" style=\"font-weight:600\">GM</a></span> <span class=\"css-8k7y81 e1b8pdim12\">(<!-- -->General Motors Company<!-- -->)</span></td><td class=\"css-hogeaf e1b8pdim3\" title=\"NYSE (NYQ)\">NYSE</td><td class=\"css-5pqg6h e1gfm3lv0\"><span class=\"css-1s1lp2w e1b8pdim24\" title=\"Up from #25 to #10\">▲ <!-- -->15</span></td><td class=\"css-5pqg6h e1gfm3lv0\">10<!-- --> <span class=\"css-1euet3f e1b8pdim29\">/ <!-- -->3<!-- --> post<!-- -->s</span></td><td class=\"css-5pqg6h e1gfm3lv0\">10</td><td class=\"css-1rojnx e1b8pdim17\"><span class=\"css-1ik7hc8 e1b8pdim11\"><a href=\"https://finance.yahoo.com/quote/GM/chart\">$<!-- --> <!-- -->58.48</a></span></td><td class=\"css-xbhtj5 e1b8pdim18\"><span class=\"css-163gdep e1b8pdim28\" title=\"Down from $58.49 to $58.48\">-0.01<!-- --> (<!-- -->-0.02<!-- -->%)</span></td><td class=\"css-12cmoq3 e1b8pdim14\" title=\"12,239,081\">12M</td><td class=\"css-xbhtj5 e1b8pdim18\"><span class=\"css-163gdep e1b8pdim28\" title=\"Volume decreased by 5.2M from 17M\">-29.66<!-- -->%</span></td><td class=\"css-12cmoq3 e1b8pdim14\">$<!-- --> <!-- -->84.26B</td></tr></tbody><tfoot class=\"css-14f40c0 e74283o0\"><tr><td class=\"css-1nj1no7 evl5nzs0\" colspan=\"9\" style=\"opacity:0.95\"><b>Ranks <!-- -->11<!-- -->-<!-- -->15<!-- -->:<!-- --> </b><span class=\"css-3b5zax e1b8pdim26\" title=\"Wells Fargo &amp; Company with 10 comments\"><span class=\"css-1sctek8 e1b8pdim9\"><a href=\"/WFC/\">WFC</a></span> <!-- --> <!-- -->(<span class=\"css-1s1lp2w e1b8pdim24\" title=\"Up from #25 to #11\">+<!-- -->14</span>)<!-- -->, </span><span class=\"css-3b5zax e1b8pdim26\" title=\"Rocket Companies, Inc. with 10 comments\"><span class=\"css-1sctek8 e1b8pdim9\"><a href=\"/RKT/\">RKT</a></span> <!-- --> <!-- -->(<span class=\"css-1s1lp2w e1b8pdim24\" title=\"Up from #25 to #12\">+<!-- -->13</span>)<!-- -->, </span><span class=\"css-3b5zax e1b8pdim26\" title=\"The Boeing Company with 9 comments\"><span class=\"css-1sctek8 e1b8pdim9\"><a href=\"/BA/\">BA</a></span> <!-- --> <!-- -->(<span class=\"css-1s1lp2w e1b8pdim24\" title=\"Up from #25 to #13\">+<!-- -->12</span>)<!-- -->, </span><span class=\"css-3b5zax e1b8pdim26\" title=\"Walmart Inc. with 8 comments\"><span class=\"css-1sctek8 e1b8pdim9\"><a href=\"/WMT/\">WMT</a></span> <!-- --> <!-- -->(<span class=\"css-1s1lp2w e1b8pdim24\" title=\"Up from #25 to #14\">+<!-- -->11</span>)<!-- -->, </span><span class=\"css-3b5zax e1b8pdim26\" title=\"Invesco QQQ Trust with 8 comments\"><span class=\"css-1sctek8 e1b8pdim9\"><a href=\"/QQQ/\">QQQ</a></span> <!-- --> <!-- -->(<span class=\"css-ry58ni e1b8pdim25\" title=\"Down from #8 to #15\">-<!-- -->7</span>)</span></td><td class=\"css-1nj1no7 evl5nzs0\" colspan=\"2\" style=\"opacity:0.95;text-align:right\"><span role=\"button\" style=\"cursor:pointer;font-weight:bold\">Expand [+]</span></td></tr></tfoot></table>\n"
     ]
    }
   ],
   "source": [
    "# Initiate beautiful and list element to extract all the rows in the table\n",
    "soup = BeautifulSoup(r.content, \"html.parser\")\n",
    "table = soup.find_all('table')[1]\n",
    "print(\"table is \", table)\n",
    "rows = table.find_all('tr')\n",
    "row_list = list()"
   ]
  },
  {
   "cell_type": "code",
   "execution_count": 9,
   "metadata": {},
   "outputs": [
    {
     "name": "stdout",
     "output_type": "stream",
     "text": [
      "Row is  []\n",
      "Row is  ['1.', 'GME (GameStop Corp.)', 'NYSE', '▲ 1', '25 / 11 posts', '21', '$ 166.53', '+25.54 (+18.11%)', '21M', '+209.0%', '$ 11.66B']\n",
      "Row is  ['2.', 'GS (The Goldman Sachs Group, Inc.)', 'NYSE', '▲ 23', '24 / 8 posts', '18', '$ 335.35', '+7.67 (+2.34%)', '9.8M', '+174.2%', '$ 114.09B']\n",
      "Row is  ['3.', 'TSLA (Tesla, Inc.)', 'NASDAQ', '▲ 3', '23 / 9 posts', '20', '$ 732.23', '-30.09 (-3.95%)', '48M', '+8.45%', '$ 702.83B']\n",
      "Row is  ['4.', 'VTI (Vanguard Total Stock Market Index Fund ETF Shares)', 'NYSE', '▼ 1', '21 / 7 posts', '17', '$ 214.32', '-0.48 (-0.23%)', '3.7M', '-9.29%', '']\n",
      "Row is  ['5.', 'PLTR (Palantir Technologies Inc.)', 'NYSE', '▲ 20', '20 / 9 posts', '19', '$ 23.70', '-1.72 (-6.77%)', '107M', '+28.40%', '$ 43.19B']\n",
      "Row is  ['6.', 'SPY (SPDR S&P 500 ETF Trust)', 'NYSE', '▲ 4', '14 / 7 posts', '10', '$ 411.45', '-1.41 (-0.35%)', '56M', '-0.55%', '']\n",
      "Row is  ['7.', 'AAPL (Apple Inc.)', 'NASDAQ', '▼ 6', '12 / 11 posts', '12', '$ 132.03', '-2.40 (-1.79%)', '83M', '-8.69%', '$ 2.22T']\n",
      "Row is  ['8.', 'VOO (Vanguard S&P 500 ETF)', 'NYSE', '▼ 4', '11 / 6 posts', '9', '$ 378.23', '-1.22 (-0.33%)', '3.3M', '+11.02%', '']\n",
      "Row is  ['9.', 'ARKF (ARK Fintech Innovation ETF)', 'NYSE', '▲ 16', '10 / 4 posts', '10', '$ 53.71', '-1.47 (-2.67%)', '2.3M', '+41.94%', '']\n",
      "Row is  ['10.', 'GM (General Motors Company)', 'NYSE', '▲ 15', '10 / 3 posts', '10', '$ 58.48', '-0.01 (-0.02%)', '12M', '-29.66%', '$ 84.26B']\n",
      "Row is  ['Ranks 11-15: WFC  (+14), RKT  (+13), BA  (+12), WMT  (+11), QQQ  (-7)', 'Expand [+]']\n"
     ]
    }
   ],
   "source": [
    "# Iterate through all of the rows in table and get through each of the cell to append it into rows and row_list\n",
    "for tr in rows:\n",
    "    td = tr.find_all('td')\n",
    "    row = [i.text for i in td]\n",
    "    row_list.append(row)\n",
    "    print(\"Row is \", row)"
   ]
  },
  {
   "cell_type": "code",
   "execution_count": 10,
   "metadata": {},
   "outputs": [
    {
     "name": "stdout",
     "output_type": "stream",
     "text": [
      "  Number                                            Company Stock Exchange  \\\n",
      "0   None                                               None           None   \n",
      "1     1.                               GME (GameStop Corp.)           NYSE   \n",
      "2     2.                 GS (The Goldman Sachs Group, Inc.)           NYSE   \n",
      "3     3.                                 TSLA (Tesla, Inc.)         NASDAQ   \n",
      "4     4.  VTI (Vanguard Total Stock Market Index Fund ET...           NYSE   \n",
      "\n",
      "   Rank Comments/Posts Users     Price      Price Change Volume  \\\n",
      "0  None           None  None      None              None   None   \n",
      "1   ▲ 1  25 / 11 posts    21  $ 166.53  +25.54 (+18.11%)    21M   \n",
      "2  ▲ 23   24 / 8 posts    18  $ 335.35    +7.67 (+2.34%)   9.8M   \n",
      "3   ▲ 3   23 / 9 posts    20  $ 732.23   -30.09 (-3.95%)    48M   \n",
      "4   ▼ 1   21 / 7 posts    17  $ 214.32    -0.48 (-0.23%)   3.7M   \n",
      "\n",
      "  Price Change in the last 24h Market Cap  \n",
      "0                         None       None  \n",
      "1                      +209.0%   $ 11.66B  \n",
      "2                      +174.2%  $ 114.09B  \n",
      "3                       +8.45%  $ 702.83B  \n",
      "4                       -9.29%             \n"
     ]
    }
   ],
   "source": [
    "# Create Pandas Dataframe and print it\n",
    "df_redditstocksandinvestingcommunities = pd.DataFrame(row_list,columns=['Number', 'Company', 'Stock Exchange', 'Rank', 'Comments/Posts', 'Users', 'Price', 'Price Change', 'Volume', 'Price Change in the last 24h', 'Market Cap'])\n",
    "df_redditstocksandinvestingcommunities.drop(df_redditstocksandinvestingcommunities.tail(1).index, inplace = True)\n",
    "print(df_redditstocksandinvestingcommunities.head())"
   ]
  },
  {
   "cell_type": "code",
   "execution_count": 11,
   "metadata": {},
   "outputs": [],
   "source": [
    "# Exporting the data into csv\n",
    "df_redditstocksandinvestingcommunities.to_csv('beautifulsoup_reddit_stocksandinvestingcommunities.csv')"
   ]
  },
  {
   "cell_type": "markdown",
   "metadata": {},
   "source": [
    "### 1.3 Data cleaning and merging of datasets for further webscrapping"
   ]
  },
  {
   "cell_type": "code",
   "execution_count": 12,
   "metadata": {},
   "outputs": [],
   "source": [
    "# 1) Drop empty rows\n",
    "# 2) Drop 'Number' and 'Rank' (recalculate rank later)\n",
    "# 3) Split comments and Posts (for easy calculation later, with delimiter of '/')\n",
    "# 4) If Company X exist in both dataframes,\n",
    "# (a) Add all comments\n",
    "# (b) Add all posts\n",
    "# (c) Add all users\n",
    "# 5) Split 'Company' into 'company abbreviation' and 'company name' \n",
    "# 5) Keep price, price change, volume, price change in last 24h and market cap unchange "
   ]
  },
  {
   "cell_type": "code",
   "execution_count": 13,
   "metadata": {},
   "outputs": [],
   "source": [
    "#Concatenate dataframes using append\n",
    "df_combined_daily = df_redditwallstreetbets.append(df_redditstocksandinvestingcommunities)"
   ]
  },
  {
   "cell_type": "code",
   "execution_count": 14,
   "metadata": {},
   "outputs": [],
   "source": [
    "#Drop empty rows\n",
    "df_combined_daily = df_combined_daily.dropna(how='all')\n",
    "\n",
    "#Drop Number, Rank\n",
    "df_combined_daily.drop('Number', inplace=True, axis=1)\n",
    "df_combined_daily.drop('Rank', inplace=True, axis=1)"
   ]
  },
  {
   "cell_type": "code",
   "execution_count": 15,
   "metadata": {},
   "outputs": [],
   "source": [
    "#Split comments and posts\n",
    "df_combined_daily['Comments/Posts'].astype(str)\n",
    "df_combined_daily[['Comments','Posts']] = df_combined_daily['Comments/Posts'].apply(lambda x: pd.Series(str(x).split(\"/\")))\n",
    "df_combined_daily['Posts'] = df_combined_daily['Posts'].str.split('posts').str[0]\n",
    "\n",
    "#Drop redundant column\n",
    "df_combined_daily.drop('Comments/Posts', inplace=True, axis=1)"
   ]
  },
  {
   "cell_type": "code",
   "execution_count": 16,
   "metadata": {},
   "outputs": [],
   "source": [
    "#convert str to int for calculation \n",
    "df_combined_daily['Users'] = df_combined_daily['Users'].astype(int)\n",
    "df_combined_daily['Posts'] = df_combined_daily['Posts'].astype(int)\n",
    "df_combined_daily['Comments'] = pd.to_numeric(df_combined_daily['Comments'], errors='coerce')\n",
    "\n",
    "# #convert str to int for calculation \n",
    "# df_combined_daily[['Users','Comments', 'Posts']] = df_combined_daily[['Users','Comments', 'Posts']].astype(float)"
   ]
  },
  {
   "cell_type": "code",
   "execution_count": 17,
   "metadata": {},
   "outputs": [],
   "source": [
    "# If Company X repeats, (a) Add all comments, (b) Add all posts, (c) Add all users\n",
    "# Other variables:  remain unchanged (should not add them together)\n",
    "df_combined_daily = df_combined_daily.groupby(['Company'],as_index=False).agg({'Stock Exchange':pd.Series.mode,'Users':np.sum, 'Comments':np.sum, 'Posts':np.sum, 'Price':pd.Series.mode, 'Price Change':pd.Series.mode, 'Price Change in the last 24h':pd.Series.mode, 'Volume':pd.Series.mode, 'Market Cap':pd.Series.mode})"
   ]
  },
  {
   "cell_type": "code",
   "execution_count": 18,
   "metadata": {},
   "outputs": [],
   "source": [
    "#Sort values according to comments in descending order\n",
    "df_combined_daily_sorted = df_combined_daily.sort_values(by='Comments', ascending=False)"
   ]
  },
  {
   "cell_type": "code",
   "execution_count": 19,
   "metadata": {},
   "outputs": [],
   "source": [
    "#Reset Index\n",
    "df_combined_daily_sorted.reset_index(drop=True, inplace=True)"
   ]
  },
  {
   "cell_type": "code",
   "execution_count": 20,
   "metadata": {},
   "outputs": [
    {
     "data": {
      "text/html": [
       "<div>\n",
       "<style scoped>\n",
       "    .dataframe tbody tr th:only-of-type {\n",
       "        vertical-align: middle;\n",
       "    }\n",
       "\n",
       "    .dataframe tbody tr th {\n",
       "        vertical-align: top;\n",
       "    }\n",
       "\n",
       "    .dataframe thead th {\n",
       "        text-align: right;\n",
       "    }\n",
       "</style>\n",
       "<table border=\"1\" class=\"dataframe\">\n",
       "  <thead>\n",
       "    <tr style=\"text-align: right;\">\n",
       "      <th></th>\n",
       "      <th>Company</th>\n",
       "      <th>Stock Exchange</th>\n",
       "      <th>Users</th>\n",
       "      <th>Comments</th>\n",
       "      <th>Posts</th>\n",
       "      <th>Price</th>\n",
       "      <th>Price Change</th>\n",
       "      <th>Price Change in the last 24h</th>\n",
       "      <th>Volume</th>\n",
       "      <th>Market Cap</th>\n",
       "      <th>Company Abbreviation</th>\n",
       "      <th>Company Name</th>\n",
       "    </tr>\n",
       "  </thead>\n",
       "  <tbody>\n",
       "    <tr>\n",
       "      <th>0</th>\n",
       "      <td>TSLA (Tesla, Inc.)</td>\n",
       "      <td>NASDAQ</td>\n",
       "      <td>476</td>\n",
       "      <td>926.0</td>\n",
       "      <td>61</td>\n",
       "      <td>$ 732.23</td>\n",
       "      <td>-30.09 (-3.95%)</td>\n",
       "      <td>+8.45%</td>\n",
       "      <td>48M</td>\n",
       "      <td>$ 702.83B</td>\n",
       "      <td>TSLA</td>\n",
       "      <td>Tesla, Inc.</td>\n",
       "    </tr>\n",
       "    <tr>\n",
       "      <th>1</th>\n",
       "      <td>SPY (SPDR S&amp;P 500 ETF Trust)</td>\n",
       "      <td>NYSE</td>\n",
       "      <td>317</td>\n",
       "      <td>439.0</td>\n",
       "      <td>30</td>\n",
       "      <td>$ 411.45</td>\n",
       "      <td>-1.41 (-0.35%)</td>\n",
       "      <td>-0.55%</td>\n",
       "      <td>56M</td>\n",
       "      <td></td>\n",
       "      <td>SPY</td>\n",
       "      <td>SPDR S&amp;P 500 ETF Trust</td>\n",
       "    </tr>\n",
       "    <tr>\n",
       "      <th>2</th>\n",
       "      <td>AAPL (Apple Inc.)</td>\n",
       "      <td>NASDAQ</td>\n",
       "      <td>179</td>\n",
       "      <td>310.0</td>\n",
       "      <td>27</td>\n",
       "      <td>$ 132.03</td>\n",
       "      <td>-2.40 (-1.79%)</td>\n",
       "      <td>-8.69%</td>\n",
       "      <td>83M</td>\n",
       "      <td>$ 2.22T</td>\n",
       "      <td>AAPL</td>\n",
       "      <td>Apple Inc.</td>\n",
       "    </tr>\n",
       "    <tr>\n",
       "      <th>3</th>\n",
       "      <td>AMC (AMC Entertainment Holdings, Inc.)</td>\n",
       "      <td>NYSE</td>\n",
       "      <td>255</td>\n",
       "      <td>302.0</td>\n",
       "      <td>51</td>\n",
       "      <td>$ 9.35</td>\n",
       "      <td>+0.51 (+5.76%)</td>\n",
       "      <td>+15.41%</td>\n",
       "      <td>51M</td>\n",
       "      <td>$ 4.21B</td>\n",
       "      <td>AMC</td>\n",
       "      <td>AMC Entertainment Holdings, Inc.</td>\n",
       "    </tr>\n",
       "    <tr>\n",
       "      <th>4</th>\n",
       "      <td>AMD (Advanced Micro Devices, Inc.)</td>\n",
       "      <td>NASDAQ</td>\n",
       "      <td>115</td>\n",
       "      <td>156.0</td>\n",
       "      <td>21</td>\n",
       "      <td>$ 78.55</td>\n",
       "      <td>-1.64 (-2.05%)</td>\n",
       "      <td>-10.85%</td>\n",
       "      <td>34M</td>\n",
       "      <td>$ 95.41B</td>\n",
       "      <td>AMD</td>\n",
       "      <td>Advanced Micro Devices, Inc.</td>\n",
       "    </tr>\n",
       "  </tbody>\n",
       "</table>\n",
       "</div>"
      ],
      "text/plain": [
       "                                  Company Stock Exchange  Users  Comments  \\\n",
       "0                      TSLA (Tesla, Inc.)         NASDAQ    476     926.0   \n",
       "1            SPY (SPDR S&P 500 ETF Trust)           NYSE    317     439.0   \n",
       "2                       AAPL (Apple Inc.)         NASDAQ    179     310.0   \n",
       "3  AMC (AMC Entertainment Holdings, Inc.)           NYSE    255     302.0   \n",
       "4      AMD (Advanced Micro Devices, Inc.)         NASDAQ    115     156.0   \n",
       "\n",
       "   Posts     Price     Price Change Price Change in the last 24h Volume  \\\n",
       "0     61  $ 732.23  -30.09 (-3.95%)                       +8.45%    48M   \n",
       "1     30  $ 411.45   -1.41 (-0.35%)                       -0.55%    56M   \n",
       "2     27  $ 132.03   -2.40 (-1.79%)                       -8.69%    83M   \n",
       "3     51    $ 9.35   +0.51 (+5.76%)                      +15.41%    51M   \n",
       "4     21   $ 78.55   -1.64 (-2.05%)                      -10.85%    34M   \n",
       "\n",
       "  Market Cap Company Abbreviation                      Company Name  \n",
       "0  $ 702.83B                TSLA                        Tesla, Inc.  \n",
       "1                            SPY             SPDR S&P 500 ETF Trust  \n",
       "2    $ 2.22T                AAPL                         Apple Inc.  \n",
       "3    $ 4.21B                 AMC   AMC Entertainment Holdings, Inc.  \n",
       "4   $ 95.41B                 AMD       Advanced Micro Devices, Inc.  "
      ]
     },
     "execution_count": 20,
     "metadata": {},
     "output_type": "execute_result"
    }
   ],
   "source": [
    "# Split 'Company' into 'company abbreviation' and 'company name' \n",
    "df_combined_daily_sorted[['Company Abbreviation', 'Company Name']] = df_combined_daily_sorted['Company'].str.split('(', 1, expand=True)\n",
    "df_combined_daily_sorted['Company Name'] = df_combined_daily_sorted['Company Name'].str.split(')', 1, expand=True)\n",
    "\n",
    "#Show dataframe\n",
    "df_combined_daily_sorted.head()"
   ]
  },
  {
   "cell_type": "code",
   "execution_count": 21,
   "metadata": {},
   "outputs": [
    {
     "data": {
      "text/html": [
       "<div>\n",
       "<style scoped>\n",
       "    .dataframe tbody tr th:only-of-type {\n",
       "        vertical-align: middle;\n",
       "    }\n",
       "\n",
       "    .dataframe tbody tr th {\n",
       "        vertical-align: top;\n",
       "    }\n",
       "\n",
       "    .dataframe thead th {\n",
       "        text-align: right;\n",
       "    }\n",
       "</style>\n",
       "<table border=\"1\" class=\"dataframe\">\n",
       "  <thead>\n",
       "    <tr style=\"text-align: right;\">\n",
       "      <th></th>\n",
       "      <th>Company Abbreviation</th>\n",
       "      <th>Company Name</th>\n",
       "      <th>Stock Exchange</th>\n",
       "      <th>Users</th>\n",
       "      <th>Comments</th>\n",
       "      <th>Posts</th>\n",
       "      <th>Price</th>\n",
       "      <th>Price Change</th>\n",
       "      <th>Price Change in the last 24h</th>\n",
       "      <th>Volume</th>\n",
       "      <th>Market Cap</th>\n",
       "    </tr>\n",
       "  </thead>\n",
       "  <tbody>\n",
       "    <tr>\n",
       "      <th>0</th>\n",
       "      <td>TSLA</td>\n",
       "      <td>Tesla, Inc.</td>\n",
       "      <td>NASDAQ</td>\n",
       "      <td>476</td>\n",
       "      <td>926.0</td>\n",
       "      <td>61</td>\n",
       "      <td>$ 732.23</td>\n",
       "      <td>-30.09 (-3.95%)</td>\n",
       "      <td>+8.45%</td>\n",
       "      <td>48M</td>\n",
       "      <td>$ 702.83B</td>\n",
       "    </tr>\n",
       "    <tr>\n",
       "      <th>1</th>\n",
       "      <td>SPY</td>\n",
       "      <td>SPDR S&amp;P 500 ETF Trust</td>\n",
       "      <td>NYSE</td>\n",
       "      <td>317</td>\n",
       "      <td>439.0</td>\n",
       "      <td>30</td>\n",
       "      <td>$ 411.45</td>\n",
       "      <td>-1.41 (-0.35%)</td>\n",
       "      <td>-0.55%</td>\n",
       "      <td>56M</td>\n",
       "      <td></td>\n",
       "    </tr>\n",
       "    <tr>\n",
       "      <th>2</th>\n",
       "      <td>AAPL</td>\n",
       "      <td>Apple Inc.</td>\n",
       "      <td>NASDAQ</td>\n",
       "      <td>179</td>\n",
       "      <td>310.0</td>\n",
       "      <td>27</td>\n",
       "      <td>$ 132.03</td>\n",
       "      <td>-2.40 (-1.79%)</td>\n",
       "      <td>-8.69%</td>\n",
       "      <td>83M</td>\n",
       "      <td>$ 2.22T</td>\n",
       "    </tr>\n",
       "    <tr>\n",
       "      <th>3</th>\n",
       "      <td>AMC</td>\n",
       "      <td>AMC Entertainment Holdings, Inc.</td>\n",
       "      <td>NYSE</td>\n",
       "      <td>255</td>\n",
       "      <td>302.0</td>\n",
       "      <td>51</td>\n",
       "      <td>$ 9.35</td>\n",
       "      <td>+0.51 (+5.76%)</td>\n",
       "      <td>+15.41%</td>\n",
       "      <td>51M</td>\n",
       "      <td>$ 4.21B</td>\n",
       "    </tr>\n",
       "    <tr>\n",
       "      <th>4</th>\n",
       "      <td>AMD</td>\n",
       "      <td>Advanced Micro Devices, Inc.</td>\n",
       "      <td>NASDAQ</td>\n",
       "      <td>115</td>\n",
       "      <td>156.0</td>\n",
       "      <td>21</td>\n",
       "      <td>$ 78.55</td>\n",
       "      <td>-1.64 (-2.05%)</td>\n",
       "      <td>-10.85%</td>\n",
       "      <td>34M</td>\n",
       "      <td>$ 95.41B</td>\n",
       "    </tr>\n",
       "  </tbody>\n",
       "</table>\n",
       "</div>"
      ],
      "text/plain": [
       "  Company Abbreviation                      Company Name Stock Exchange  \\\n",
       "0                TSLA                        Tesla, Inc.         NASDAQ   \n",
       "1                 SPY             SPDR S&P 500 ETF Trust           NYSE   \n",
       "2                AAPL                         Apple Inc.         NASDAQ   \n",
       "3                 AMC   AMC Entertainment Holdings, Inc.           NYSE   \n",
       "4                 AMD       Advanced Micro Devices, Inc.         NASDAQ   \n",
       "\n",
       "   Users  Comments  Posts     Price     Price Change  \\\n",
       "0    476     926.0     61  $ 732.23  -30.09 (-3.95%)   \n",
       "1    317     439.0     30  $ 411.45   -1.41 (-0.35%)   \n",
       "2    179     310.0     27  $ 132.03   -2.40 (-1.79%)   \n",
       "3    255     302.0     51    $ 9.35   +0.51 (+5.76%)   \n",
       "4    115     156.0     21   $ 78.55   -1.64 (-2.05%)   \n",
       "\n",
       "  Price Change in the last 24h Volume Market Cap  \n",
       "0                       +8.45%    48M  $ 702.83B  \n",
       "1                       -0.55%    56M             \n",
       "2                       -8.69%    83M    $ 2.22T  \n",
       "3                      +15.41%    51M    $ 4.21B  \n",
       "4                      -10.85%    34M   $ 95.41B  "
      ]
     },
     "execution_count": 21,
     "metadata": {},
     "output_type": "execute_result"
    }
   ],
   "source": [
    "#drop redundant columns\n",
    "df_combined_daily_sorted = df_combined_daily_sorted[['Company Abbreviation', 'Company Name', 'Stock Exchange', 'Users', 'Comments', 'Posts', 'Price', 'Price Change', 'Price Change in the last 24h', 'Volume', 'Market Cap']]\n",
    "\n",
    "#Show dataframe\n",
    "df_combined_daily_sorted.head()"
   ]
  },
  {
   "cell_type": "code",
   "execution_count": 22,
   "metadata": {},
   "outputs": [],
   "source": [
    "# Exporting the data into csv\n",
    "df_combined_daily_sorted.to_csv('beautifulsoup_reddit_data_cleaned.csv', sep=',', index = False)"
   ]
  }
 ],
 "metadata": {
  "kernelspec": {
   "display_name": "Python 3",
   "language": "python",
   "name": "python3"
  },
  "language_info": {
   "codemirror_mode": {
    "name": "ipython",
    "version": 3
   },
   "file_extension": ".py",
   "mimetype": "text/x-python",
   "name": "python",
   "nbconvert_exporter": "python",
   "pygments_lexer": "ipython3",
   "version": "3.8.3"
  }
 },
 "nbformat": 4,
 "nbformat_minor": 2
}
