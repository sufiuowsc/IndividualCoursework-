{
 "cells": [
  {
   "cell_type": "code",
   "execution_count": 1,
   "metadata": {},
   "outputs": [],
   "source": [
    "#import libraries\n",
    "import yfinance as yf\n",
    "import pandas as pd"
   ]
  },
  {
   "cell_type": "code",
   "execution_count": 2,
   "metadata": {},
   "outputs": [],
   "source": [
    "#read file to obtain a list of companies we want to obtain more information \n",
    "companies_df = pd.read_csv('/project/beautifulsoup_reddit_data_cleaned.csv')\n",
    "companies_df.head()"
   ]
  },
  {
   "cell_type": "code",
   "execution_count": 3,
   "metadata": {},
   "outputs": [
    {
     "data": {
      "text/plain": [
       "0    TSLA \n",
       "1     SPY \n",
       "2    AAPL \n",
       "3     AMC \n",
       "4     AMD \n",
       "Name: Company Abbreviation, dtype: object"
      ]
     },
     "execution_count": 3,
     "metadata": {},
     "output_type": "execute_result"
    }
   ],
   "source": [
    "#select the column that we need as tickers\n",
    "companies = companies_df.iloc[:,0]\n",
    "\n",
    "#convert the companies into list\n",
    "companies_list = companies.tolist()\n",
    "\n",
    "#remove commas delimiter\n",
    "companies_list = ' '.join(companies_list)\n",
    "\n",
    "#reename as tickers\n",
    "tickers = companies_list"
   ]
  },
  {
   "cell_type": "code",
   "execution_count": 6,
   "metadata": {},
   "outputs": [
    {
     "name": "stdout",
     "output_type": "stream",
     "text": [
      "[*********************100%***********************]  15 of 15 completed\n"
     ]
    }
   ],
   "source": [
    "stocks_df = yf.download(tickers, start=\"2020-01-01\", end=\"2021-04-15\", group_by=\"ticker\")"
   ]
  },
  {
   "cell_type": "code",
   "execution_count": 7,
   "metadata": {
    "scrolled": false
   },
   "outputs": [
    {
     "name": "stdout",
     "output_type": "stream",
     "text": [
      "                 RIOT                                                        \\\n",
      "                 Open       High        Low      Close  Adj Close    Volume   \n",
      "Date                                                                          \n",
      "2020-01-02   1.140000   1.230000   1.130000   1.220000   1.220000    915700   \n",
      "2020-01-03   1.220000   1.220000   1.140000   1.180000   1.180000    467200   \n",
      "2020-01-06   1.230000   1.300000   1.200000   1.300000   1.300000    981200   \n",
      "2020-01-07   1.390000   1.500000   1.330000   1.490000   1.490000   3313600   \n",
      "2020-01-08   1.540000   1.540000   1.290000   1.370000   1.370000   1792300   \n",
      "...               ...        ...        ...        ...        ...       ...   \n",
      "2021-04-08  50.520000  51.889999  49.349998  49.549999  49.549999  13416200   \n",
      "2021-04-09  50.480000  51.599998  47.759998  49.630001  49.630001  13635000   \n",
      "2021-04-12  52.500000  55.786999  50.619999  51.529999  51.529999  23779400   \n",
      "2021-04-13  56.439999  59.959999  52.860001  59.259998  59.259998  42774300   \n",
      "2021-04-14  60.797001  61.549999  49.299999  50.160000  50.160000  52949200   \n",
      "\n",
      "                    SQ                                      ...         VTI  \\\n",
      "                  Open        High         Low       Close  ...         Low   \n",
      "Date                                                        ...               \n",
      "2020-01-02   62.990002   64.050003   62.950001   63.830002  ...  163.779999   \n",
      "2020-01-03   62.590000   63.270000   62.330002   63.000000  ...  163.009995   \n",
      "2020-01-06   61.360001   62.580002   61.130001   62.570000  ...  162.830002   \n",
      "2020-01-07   64.570000   65.489998   63.660000   64.589996  ...  163.779999   \n",
      "2020-01-08   64.559998   68.000000   64.150002   67.599998  ...  164.039993   \n",
      "...                ...         ...         ...         ...  ...         ...   \n",
      "2021-04-08  248.830002  258.589996  248.820007  258.369995  ...  211.770004   \n",
      "2021-04-09  255.889999  265.299988  253.679993  261.649994  ...  212.619995   \n",
      "2021-04-12  258.190002  266.959991  255.850006  265.200012  ...  213.330002   \n",
      "2021-04-13  267.480011  275.450012  266.899994  273.230011  ...  214.000000   \n",
      "2021-04-14  274.130005  278.130005  256.575012  258.399994  ...  214.039993   \n",
      "\n",
      "                                                    SPY              \\\n",
      "                 Close   Adj Close   Volume        Open        High   \n",
      "Date                                                                  \n",
      "2020-01-02  164.979996  161.556213  3291100  323.540009  324.890015   \n",
      "2020-01-03  163.929993  160.527969  3625400  321.160004  323.640015   \n",
      "2020-01-06  164.490005  161.076370  6813800  320.489990  323.730011   \n",
      "2020-01-07  164.100006  160.694473  2498400  323.019989  323.540009   \n",
      "2020-01-08  164.910004  161.487656  4244800  322.940002  325.779999   \n",
      "...                ...         ...      ...         ...         ...   \n",
      "2021-04-08  212.850006  212.850006  3628900  407.929993  408.579987   \n",
      "2021-04-09  214.139999  214.139999  3557400  408.390015  411.670013   \n",
      "2021-04-12  214.199997  214.199997  3882800  410.850006  411.929993   \n",
      "2021-04-13  214.800003  214.800003  4056900  411.529999  413.529999   \n",
      "2021-04-14  214.320007  214.320007  3765600  412.829987  413.959991   \n",
      "\n",
      "                                                          \n",
      "                   Low       Close   Adj Close    Volume  \n",
      "Date                                                      \n",
      "2020-01-02  322.529999  324.869995  317.873199  59151200  \n",
      "2020-01-03  321.100006  322.410004  315.466217  77709700  \n",
      "2020-01-06  320.359985  323.640015  316.669739  55653900  \n",
      "2020-01-07  322.239990  322.730011  315.779327  40496400  \n",
      "2020-01-08  322.670013  324.450012  317.462311  68296000  \n",
      "...                ...         ...         ...       ...  \n",
      "2021-04-08  406.929993  408.519989  408.519989  57863100  \n",
      "2021-04-09  408.260010  411.489990  411.489990  61060100  \n",
      "2021-04-12  410.200012  411.640015  411.640015  56704900  \n",
      "2021-04-13  411.119995  412.859985  412.859985  56551000  \n",
      "2021-04-14  410.869995  411.450012  411.450012  61659900  \n",
      "\n",
      "[323 rows x 90 columns]\n"
     ]
    }
   ],
   "source": [
    "print(stocks_df)"
   ]
  },
  {
   "cell_type": "code",
   "execution_count": 8,
   "metadata": {},
   "outputs": [],
   "source": [
    "stocks_df.to_csv('stocks_prices.csv')"
   ]
  }
 ],
 "metadata": {
  "kernelspec": {
   "display_name": "Python [conda env:Python3] *",
   "language": "python",
   "name": "conda-env-Python3-py"
  },
  "language_info": {
   "codemirror_mode": {
    "name": "ipython",
    "version": 3
   },
   "file_extension": ".py",
   "mimetype": "text/x-python",
   "name": "python",
   "nbconvert_exporter": "python",
   "pygments_lexer": "ipython3",
   "version": "3.8.3"
  }
 },
 "nbformat": 4,
 "nbformat_minor": 2
}
